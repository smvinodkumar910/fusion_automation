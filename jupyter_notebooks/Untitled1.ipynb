{
 "cells": [
  {
   "cell_type": "code",
   "execution_count": 34,
   "id": "01040729-8b86-4c83-bb59-7b6191e47421",
   "metadata": {},
   "outputs": [],
   "source": [
    "import pandas as pd\n",
    "import os"
   ]
  },
  {
   "cell_type": "code",
   "execution_count": 35,
   "id": "f560b08c-a54f-4acc-8184-45b20eddaf1d",
   "metadata": {},
   "outputs": [],
   "source": [
    "df = pd.read_csv(r'C:\\Users\\VinodKumarM\\Desktop\\TAX_DW_TABLE_CHANGES.csv',index_col=False)"
   ]
  },
  {
   "cell_type": "code",
   "execution_count": 36,
   "id": "d19149e9-a6fa-4e99-9540-ee6053563f89",
   "metadata": {},
   "outputs": [],
   "source": [
    "dfseries = df.groupby(['TABLE_NAME'])['REQUIRED_COLUMNS'].apply(list)\n",
    "path = 'C:\\\\Users\\\\VinodKumarM\\\\Desktop\\\\TABLE_DDLS\\\\'"
   ]
  },
  {
   "cell_type": "code",
   "execution_count": 37,
   "id": "cdfe08c2-4525-4f03-97d7-171169b78dc1",
   "metadata": {},
   "outputs": [],
   "source": [
    "for index, value in dfseries.items():\n",
    "    columns = \",\".join(value)\n",
    "    ddl = \"create or replace table `helix-data-dev.helix_fin_tax_dw.\"+index+\"`(\"+columns+\");\"\n",
    "    with open(os.path.join(path, 'gbcc_new', index + '.sql'), 'w') as file:\n",
    "        file.write(ddl)\n",
    "    "
   ]
  },
  {
   "cell_type": "code",
   "execution_count": 16,
   "id": "d4ba37fc-5833-4f5b-b935-c88c4039bb2e",
   "metadata": {},
   "outputs": [],
   "source": [
    "df['ATTRIBUTE19'] = None\n",
    "df['ATTRIBUTE20'] = None\n",
    "df['GSA_INDICATOR_FLAG'] = None"
   ]
  },
  {
   "cell_type": "code",
   "execution_count": 12,
   "id": "60e97941-d389-43e7-bf88-9a6ff76027ab",
   "metadata": {},
   "outputs": [],
   "source": [
    "df = df.loc[:,['BUSINESS_GROUP_ID',\n",
    "'ORGANIZATION_ID',\n",
    "'NAME',\n",
    "'DATE_FROM',\n",
    "'DATE_TO',\n",
    "'SHORT_CODE',\n",
    "'SET_OF_BOOKS_ID',\n",
    "'DEFAULT_LEGAL_CONTEXT_ID',\n",
    "'RUN_DATE',\n",
    "'KEY']]"
   ]
  },
  {
   "cell_type": "code",
   "execution_count": 13,
   "id": "568cd37a-306c-4640-b03b-67ac519513f2",
   "metadata": {},
   "outputs": [],
   "source": [
    "df.to_csv(r'C:\\Users\\VinodKumarM\\OneDrive - EQUINIX\\Projects\\bip_integration\\Schema\\HR_OPERATING_UNITS_DEV11.csv',index=None)"
   ]
  },
  {
   "cell_type": "code",
   "execution_count": 25,
   "id": "b58bd5f3-34da-4e05-96f1-0d43ef0475cb",
   "metadata": {},
   "outputs": [],
   "source": [
    "command = \"data_tasks_json --module GL\""
   ]
  },
  {
   "cell_type": "code",
   "execution_count": 3,
   "id": "c3f922c1-d6c8-43af-94ab-3bdb45abcccf",
   "metadata": {},
   "outputs": [],
   "source": [
    "options = command.split()"
   ]
  },
  {
   "cell_type": "code",
   "execution_count": 13,
   "id": "d77cf230-1707-4a1b-a1b5-33d20092f9b4",
   "metadata": {},
   "outputs": [],
   "source": [
    "if options[1]=='--module':\n",
    "    module = options[2]\n",
    "    tables = None\n",
    "elif options[1]=='--tables':\n",
    "    module = None\n",
    "    tables = options[2]"
   ]
  },
  {
   "cell_type": "code",
   "execution_count": 15,
   "id": "639f8db8-9d7f-4ce5-a461-6c6550381275",
   "metadata": {},
   "outputs": [],
   "source": [
    "tables"
   ]
  },
  {
   "cell_type": "code",
   "execution_count": 22,
   "id": "3c467c2b-bda2-42e4-b834-a487221fb22c",
   "metadata": {},
   "outputs": [],
   "source": [
    "task_type = options[0]"
   ]
  },
  {
   "cell_type": "code",
   "execution_count": 23,
   "id": "ae5f680a-f5bd-45e0-835b-5b07ec93ea15",
   "metadata": {},
   "outputs": [
    {
     "name": "stdout",
     "output_type": "stream",
     "text": [
      "True\n"
     ]
    }
   ],
   "source": [
    "if task_type in ['data_tasks_json', 'del_tasks_json']:\n",
    "    print(True)"
   ]
  },
  {
   "cell_type": "code",
   "execution_count": 33,
   "id": "e267f2bb-506d-4bd5-8dd3-6356eb6b3e32",
   "metadata": {},
   "outputs": [
    {
     "name": "stdout",
     "output_type": "stream",
     "text": [
      "data_tasks_json\n",
      "data_tasks_json\n"
     ]
    },
    {
     "data": {
      "text/plain": [
       "' where MODULE = \"GL\" '"
      ]
     },
     "execution_count": 33,
     "metadata": {},
     "output_type": "execute_result"
    }
   ],
   "source": [
    "derive_where_clause_dag(command)"
   ]
  },
  {
   "cell_type": "code",
   "execution_count": 32,
   "id": "f009b93c-0c0d-4d4d-bdef-28483da4f250",
   "metadata": {},
   "outputs": [],
   "source": [
    "def derive_where_clause_dag(command) -> str:\n",
    "    options = command.split()\n",
    "    if options[1]=='--module':\n",
    "        module = options[2]\n",
    "        tables = None\n",
    "    elif options[1]=='--tables':\n",
    "        module = None\n",
    "        tables = options[2]\n",
    "    \n",
    "    task_type=options[0]\n",
    "    print(options[0])\n",
    "    print(task_type)\n",
    "    if task_type in ['data_tasks_json', 'del_tasks_json']:\n",
    "        if module is None:\n",
    "            tables = '\",\"'.join(tables.split(','))\n",
    "            tables = '\"' + tables + '\"'\n",
    "            where_clause = ' where TABLE_ID in ({})'.format(tables)\n",
    "        else:\n",
    "            where_clause = ' where MODULE = \"{}\" '.format(module)\n",
    "\n",
    "    if task_type in ['tranformation_tasks_json']:\n",
    "        if module is None:\n",
    "            tables = '\",\"'.join(tables.split(','))\n",
    "            tables = '\"' + tables + '\"'\n",
    "            where_clause = ' where TABLE_ID in ({}) and DW_TABLE_NAME is not null'.format(tables)\n",
    "        else:\n",
    "            where_clause = ' where MODULE = \"{}\" and DW_TABLE_NAME is not null'.format(module)\n",
    "    \n",
    "    return  where_clause"
   ]
  }
 ],
 "metadata": {
  "kernelspec": {
   "display_name": "Python 3 (ipykernel)",
   "language": "python",
   "name": "python3"
  },
  "language_info": {
   "codemirror_mode": {
    "name": "ipython",
    "version": 3
   },
   "file_extension": ".py",
   "mimetype": "text/x-python",
   "name": "python",
   "nbconvert_exporter": "python",
   "pygments_lexer": "ipython3",
   "version": "3.10.4"
  }
 },
 "nbformat": 4,
 "nbformat_minor": 5
}
