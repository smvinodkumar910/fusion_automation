{
 "cells": [
  {
   "cell_type": "code",
   "execution_count": 1,
   "id": "e82a7ca6-5d17-4ee4-b92f-7fcb57be3185",
   "metadata": {},
   "outputs": [],
   "source": [
    "import pandas as pd\n",
    "import os\n",
    "import json"
   ]
  },
  {
   "cell_type": "code",
   "execution_count": 13,
   "id": "3d2685f9-a21d-4bce-8c75-77df5dbbad41",
   "metadata": {},
   "outputs": [],
   "source": [
    "bip_df = pd.read_csv(r\"C:\\\\Users\\\\VinodKumarM\\\\OneDrive - EQUINIX\\\\Projects\\\\fusion_automate_project\\\\resources\\\\bip_list.csv\")"
   ]
  },
  {
   "cell_type": "code",
   "execution_count": 16,
   "id": "c5a94be2-28e7-4eef-bdb0-91b480377d06",
   "metadata": {},
   "outputs": [
    {
     "data": {
      "text/plain": [
       "1"
      ]
     },
     "execution_count": 16,
     "metadata": {},
     "output_type": "execute_result"
    }
   ],
   "source": [
    "bip_df.shape[0]"
   ]
  },
  {
   "cell_type": "code",
   "execution_count": 17,
   "id": "019bcc3b-33f5-40d3-a03c-f0b72c0d56b1",
   "metadata": {},
   "outputs": [],
   "source": [
    "df = pd.read_csv('gs://helix-finance-test/helix_automation_resource/BIP_REQUIRED_TABLE_COLUMNS.csv')"
   ]
  },
  {
   "cell_type": "code",
   "execution_count": 18,
   "id": "4adf2baa-432a-4cf7-bfe8-2c030e8fa5cb",
   "metadata": {},
   "outputs": [],
   "source": [
    "ora_cols = pd.read_csv('gs://helix-finance-test/helix_automation_resource/BIP_FUSION_TABLE_SCHEMA.csv')"
   ]
  },
  {
   "cell_type": "code",
   "execution_count": 19,
   "id": "0cf2bb33-71c7-4bf0-a2f7-aa0863c53f0b",
   "metadata": {},
   "outputs": [],
   "source": [
    "table_names = list(df.TABLE.unique())"
   ]
  },
  {
   "cell_type": "code",
   "execution_count": 20,
   "id": "24c34dca-d97a-4885-8b69-28c6ed371ba1",
   "metadata": {},
   "outputs": [
    {
     "data": {
      "text/plain": [
       "['HZ_CUST_SITE_USES_ALL']"
      ]
     },
     "execution_count": 20,
     "metadata": {},
     "output_type": "execute_result"
    }
   ],
   "source": [
    "table_names"
   ]
  },
  {
   "cell_type": "code",
   "execution_count": 21,
   "id": "4905de71-5e24-421b-ba28-bcc782fd3bf9",
   "metadata": {},
   "outputs": [
    {
     "name": "stdout",
     "output_type": "stream",
     "text": [
      "                   TABLE                 COLUMN\n",
      "0  HZ_CUST_SITE_USES_ALL  OBJECT_VERSION_NUMBER\n",
      "1  HZ_CUST_SITE_USES_ALL               RUN_DATE\n",
      "2  HZ_CUST_SITE_USES_ALL                    KEY\n",
      "3  HZ_CUST_SITE_USES_ALL       LAST_UPDATE_DATE\n",
      "4  HZ_CUST_SITE_USES_ALL        LAST_UPDATED_BY\n",
      "5  HZ_CUST_SITE_USES_ALL      LAST_UPDATE_LOGIN\n",
      "6  HZ_CUST_SITE_USES_ALL             CREATED_BY\n",
      "7  HZ_CUST_SITE_USES_ALL          CREATION_DATE\n",
      "8  HZ_CUST_SITE_USES_ALL            SITE_USE_ID\n",
      "     OWNER            COLUMN_NAME             TABLE_NAME DATA_TYPE  \\\n",
      "0   FUSION             ATTRIBUTE2  HZ_CUST_SITE_USES_ALL  VARCHAR2   \n",
      "1   FUSION            ATTRIBUTE10  HZ_CUST_SITE_USES_ALL  VARCHAR2   \n",
      "2   FUSION            ATTRIBUTE12  HZ_CUST_SITE_USES_ALL  VARCHAR2   \n",
      "3   FUSION            ATTRIBUTE13  HZ_CUST_SITE_USES_ALL  VARCHAR2   \n",
      "4   FUSION            ATTRIBUTE20  HZ_CUST_SITE_USES_ALL  VARCHAR2   \n",
      "..     ...                    ...                    ...       ...   \n",
      "91  FUSION          SITE_USE_CODE  HZ_CUST_SITE_USES_ALL  VARCHAR2   \n",
      "92  FUSION      LAST_UPDATE_LOGIN  HZ_CUST_SITE_USES_ALL  VARCHAR2   \n",
      "93  FUSION    BILL_TO_SITE_USE_ID  HZ_CUST_SITE_USES_ALL    NUMBER   \n",
      "94  FUSION  ORIG_SYSTEM_REFERENCE  HZ_CUST_SITE_USES_ALL  VARCHAR2   \n",
      "95  FUSION               SIC_CODE  HZ_CUST_SITE_USES_ALL  VARCHAR2   \n",
      "\n",
      "    DATA_LENGTH NULLABLE  \n",
      "0           600        Y  \n",
      "1           600        Y  \n",
      "2           600        Y  \n",
      "3           600        Y  \n",
      "4           600        Y  \n",
      "..          ...      ...  \n",
      "91          120        N  \n",
      "92          128        Y  \n",
      "93           22        Y  \n",
      "94          960        Y  \n",
      "95          120        Y  \n",
      "\n",
      "[96 rows x 6 columns]\n"
     ]
    }
   ],
   "source": [
    "for table in table_names:\n",
    "    filtered_df = df.loc[df.TABLE==table]\n",
    "    print(filtered_df)\n",
    "    print(ora_cols)\n",
    "    merge_df = pd.merge(filtered_df,ora_cols,how='left',right_on=['TABLE_NAME','COLUMN_NAME'], left_on=['TABLE','COLUMN'])\n",
    "    merge_df = merge_df.loc[:,['TABLE','COLUMN', 'DATA_TYPE','DATA_LENGTH']]\n",
    "    #print(merge_df)\n",
    "    datatype_map = {'BINARY': 'STRING', 'CLOB': 'STRING', 'NUMERIC': 'NUMERIC', 'VARCHAR': 'STRING', 'DATE': 'TIMESTAMP',\n",
    "                    'TIMESTAMP': 'TIMESTAMP', 'FLOAT': 'NUMERIC','NUMBER':'NUMERIC','VARCHAR2': 'STRING','TIMESTAMP(6)':'TIMESTAMP'}\n",
    "    \n",
    "    _metadata_insert_time = \"_metadata_insert_time TIMESTAMP DEFAULT CURRENT_TIMESTAMP,\\n\"\n",
    "    \n",
    "    # To add platform supported column in RAW tables\n",
    "    raw_meta_cols = \"_metadata_insert_time TIMESTAMP DEFAULT CURRENT_TIMESTAMP, \\n\" \\\n",
    "                    \"_metadata_update_time TIMESTAMP, \\n\" \\\n",
    "                    \"_metadata_deleted STRING DEFAULT 'N',\\n\" \\\n",
    "                    \"_metadata_dag_run_id STRING,\\n\"\n",
    "    \n",
    "    hist_meta_cols = \"_metadata_insert_time TIMESTAMP DEFAULT CURRENT_TIMESTAMP, \\n\" \\\n",
    "                     \"_metadata_deleted STRING DEFAULT 'N',\\n\" \\\n",
    "                     \"_metadata_dag_run_id STRING,\\n\"\n",
    "\n",
    "    merge_df['bq_type'] = merge_df['DATA_TYPE'].map(datatype_map)\n",
    "    merge_df.loc[merge_df.COLUMN=='RUN_DATE',[\"bq_type\"]] = 'TIMESTAMP'\n",
    "    merge_df.loc[merge_df.COLUMN=='KEY',[\"bq_type\"]] = 'STRING'\n",
    "    merge_df.loc[merge_df.COLUMN=='COL_FOR_SINGLE_FILE',[\"bq_type\"]] = 'STRING'\n",
    "    #print(merge_df)\n",
    "    merge_df['ddl'] = merge_df['COLUMN'] + ' ' + merge_df['bq_type'] + ',\\n'\n",
    "    collist = list(merge_df['ddl'].drop_duplicates())\n",
    "    colstr = ''.join(collist)\n",
    "\n",
    "    # Stg table ddl creation\n",
    "    stg_table_name = 'STG_MS_'+table+'_BIP'\n",
    "    create = 'CREATE TABLE IF NOT EXISTS `helix-data-dev.' + 'helix_fin_ms_stg' + '.' + stg_table_name + '`\\n(\\n'\n",
    "    colstrstg = create + colstr + _metadata_insert_time\n",
    "    colstrstg = colstrstg[:-2] + '\\n);'\n",
    "\n",
    "    \n",
    "    # Raw table ddl creation\n",
    "    raw_table_name = 'MS_'+table+'_BIP'\n",
    "    createraw = 'CREATE TABLE IF NOT EXISTS `helix-data-dev.' + 'helix_fin_ms_raw' + '.' + raw_table_name + '`\\n(\\n'\n",
    "    createraw = createraw + colstr + raw_meta_cols\n",
    "    colstrraw = createraw[:-2] + '\\n)\\nPARTITION BY DATE(_metadata_update_time);'\n",
    "\n",
    "    # Hist table ddl creation\n",
    "    #createhist = 'CREATE TABLE IF NOT EXISTS `project_name.' + pc.HIST_SCHEMA + '.' + hist_table_name + '`\\n(\\n'\n",
    "    #createhist = createhist + colstrhist + hist_meta_cols\n",
    "    #colstrhist = createhist[:-2] + '\\n)\\nPARTITION BY DATE(_metadata_insert_time);'\n",
    "\n",
    "    \n",
    "    with open(os.path.join(r'C:\\Users\\VinodKumarM\\OneDrive - EQUINIX\\Projects\\fusion_automate_project\\fusbq\\helix_automation_output', 'STG', stg_table_name + '.sql'), 'w') as file:\n",
    "        file.write(colstrstg)\n",
    "\n",
    "    with open(os.path.join(r'C:\\Users\\VinodKumarM\\OneDrive - EQUINIX\\Projects\\fusion_automate_project\\fusbq\\helix_automation_output', 'RAW', raw_table_name + '.sql'), 'w') as file:\n",
    "        file.write(colstrraw)\n",
    "    \n",
    "    merge_df['mode'] = 'NULLABLE'\n",
    "    #print(merge_df)\n",
    "    merge_df['name']=merge_df['COLUMN']\n",
    "    merge_df['type']=merge_df['bq_type']\n",
    "    bqschema = merge_df.loc[:, ['name', 'type', 'mode']].to_dict('records')\n",
    "    \n",
    "    #print(colstrraw)\n",
    "    #print(colstrraw)\n",
    "    with open(os.path.join(r'C:\\Users\\VinodKumarM\\OneDrive - EQUINIX\\Projects\\fusion_automate_project\\fusbq\\helix_automation_output', 'JSON', stg_table_name + '.json'), 'w') as file:\n",
    "        file.write(json.dumps(bqschema, indent=2))\n",
    "\n",
    "\n",
    "    "
   ]
  },
  {
   "cell_type": "code",
   "execution_count": 14,
   "id": "34e328bc-57ad-4339-9cbe-3f7af7bd8472",
   "metadata": {},
   "outputs": [],
   "source": []
  },
  {
   "cell_type": "code",
   "execution_count": 15,
   "id": "0f1e3fdf-6ebf-4f27-ac7e-b7e888650c7b",
   "metadata": {},
   "outputs": [],
   "source": []
  }
 ],
 "metadata": {
  "kernelspec": {
   "display_name": "Python 3 (ipykernel)",
   "language": "python",
   "name": "python3"
  },
  "language_info": {
   "codemirror_mode": {
    "name": "ipython",
    "version": 3
   },
   "file_extension": ".py",
   "mimetype": "text/x-python",
   "name": "python",
   "nbconvert_exporter": "python",
   "pygments_lexer": "ipython3",
   "version": "3.10.4"
  }
 },
 "nbformat": 4,
 "nbformat_minor": 5
}
