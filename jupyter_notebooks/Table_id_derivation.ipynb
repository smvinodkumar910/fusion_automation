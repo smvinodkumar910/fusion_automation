{
 "cells": [
  {
   "cell_type": "code",
   "execution_count": 69,
   "id": "8ce470d5-fb88-4f68-a9cc-76a85a3500be",
   "metadata": {},
   "outputs": [],
   "source": [
    "from google.cloud import bigquery\n",
    "import pandas as pd"
   ]
  },
  {
   "cell_type": "code",
   "execution_count": 80,
   "id": "fba504b5-941e-4a66-8d09-9d1e6c1dece1",
   "metadata": {},
   "outputs": [],
   "source": [
    "base_df = pd.read_csv(r'C:\\Users\\VinodKumarM\\OneDrive - EQUINIX\\Projects\\fusion_automate_project\\resources\\BASE_DF.csv')"
   ]
  },
  {
   "cell_type": "code",
   "execution_count": 81,
   "id": "6f8f5779-5cdd-4110-8e92-dae6098d5868",
   "metadata": {},
   "outputs": [
    {
     "name": "stdout",
     "output_type": "stream",
     "text": [
      "select MODULE, max(table_id) MAX_TABLE_ID from helix-data-dev.BQ_CTL_METADATA.FUSION_TO_BQ_PVO_DTL WHERE MODULE IN (\"MS\",\"AR\",\"S2P\") AND SOURCE_TYPE='BICC' GROUP BY MODULE \n"
     ]
    }
   ],
   "source": [
    "module_list = list(base_df.MODULE.unique())\n",
    "module_list = \"\\\"\"+'\",\"'.join(module_list)+\"\\\"\"\n",
    "\n",
    "client = bigquery.Client('helix-data-dev')\n",
    "sql = \"select MODULE, max(table_id) MAX_TABLE_ID from helix-data-dev.BQ_CTL_METADATA.FUSION_TO_BQ_PVO_DTL \\\n",
    "WHERE MODULE IN ({0}) AND SOURCE_TYPE='BICC' GROUP BY MODULE \".format( module_list)\n",
    "\n",
    "print(sql)\n",
    "pvodf = client.query(sql).to_dataframe()\n",
    "pvodict = pvodf.to_dict('records')\n",
    "\n",
    "max_tableids = dict()\n",
    "for a in pvodict:\n",
    "    max_tableids[a['MODULE']] = int(a['MAX_TABLE_ID'].split('_')[-1])"
   ]
  },
  {
   "cell_type": "code",
   "execution_count": 82,
   "id": "ef68d841-826a-441b-a43d-c377fb60e66d",
   "metadata": {},
   "outputs": [],
   "source": [
    "def derive_table_id(x):\n",
    "    table_id = max_tableids[x.MODULE]\n",
    "    table_id = table_id+1\n",
    "    max_tableids[x.MODULE] = table_id\n",
    "    return x.MODULE+'_'+str(table_id).rjust(3,'0')"
   ]
  },
  {
   "cell_type": "code",
   "execution_count": 83,
   "id": "d70b22b9-be55-4560-a7e3-327b7478e306",
   "metadata": {},
   "outputs": [],
   "source": [
    "base_df['TABLE_ID'] = base_df.apply(lambda x:derive_table_id(x),axis=1)"
   ]
  },
  {
   "cell_type": "code",
   "execution_count": 84,
   "id": "ee2e3e98-e871-4580-aadd-191d512bb1ff",
   "metadata": {},
   "outputs": [
    {
     "data": {
      "text/html": [
       "<div>\n",
       "<style scoped>\n",
       "    .dataframe tbody tr th:only-of-type {\n",
       "        vertical-align: middle;\n",
       "    }\n",
       "\n",
       "    .dataframe tbody tr th {\n",
       "        vertical-align: top;\n",
       "    }\n",
       "\n",
       "    .dataframe thead th {\n",
       "        text-align: right;\n",
       "    }\n",
       "</style>\n",
       "<table border=\"1\" class=\"dataframe\">\n",
       "  <thead>\n",
       "    <tr style=\"text-align: right;\">\n",
       "      <th></th>\n",
       "      <th>DATASTORE_NAME</th>\n",
       "      <th>SOURCE_TABLE_NAME</th>\n",
       "      <th>MODULE</th>\n",
       "      <th>TABLE_ID</th>\n",
       "    </tr>\n",
       "  </thead>\n",
       "  <tbody>\n",
       "    <tr>\n",
       "      <th>0</th>\n",
       "      <td>FscmTopModelAM.PartiesAnalyticsAM.OriginalSyst...</td>\n",
       "      <td>HZ_ORIG_SYS_REFERENCES</td>\n",
       "      <td>MS</td>\n",
       "      <td>MS_030</td>\n",
       "    </tr>\n",
       "    <tr>\n",
       "      <th>1</th>\n",
       "      <td>FscmTopModelAM.PartiesAnalyticsAM.OriginalSyst...</td>\n",
       "      <td>HZ_ORIG_SYS_REFERENCES</td>\n",
       "      <td>MS</td>\n",
       "      <td>MS_031</td>\n",
       "    </tr>\n",
       "    <tr>\n",
       "      <th>2</th>\n",
       "      <td>FscmTopModelAM.PartiesAnalyticsAM.OriginalSyst...</td>\n",
       "      <td>HZ_ORIG_SYS_REFERENCES</td>\n",
       "      <td>MS</td>\n",
       "      <td>MS_032</td>\n",
       "    </tr>\n",
       "    <tr>\n",
       "      <th>3</th>\n",
       "      <td>FscmTopModelAM.PartiesAnalyticsAM.OriginalSyst...</td>\n",
       "      <td>HZ_ORIG_SYS_REFERENCES</td>\n",
       "      <td>MS</td>\n",
       "      <td>MS_033</td>\n",
       "    </tr>\n",
       "    <tr>\n",
       "      <th>4</th>\n",
       "      <td>FscmTopModelAM.PartiesAnalyticsAM.OriginalSyst...</td>\n",
       "      <td>HZ_ORIG_SYS_REFERENCES</td>\n",
       "      <td>MS</td>\n",
       "      <td>MS_034</td>\n",
       "    </tr>\n",
       "    <tr>\n",
       "      <th>5</th>\n",
       "      <td>FscmTopModelAM.PartiesAnalyticsAM.OriginalSyst...</td>\n",
       "      <td>HZ_ORIG_SYS_REFERENCES23</td>\n",
       "      <td>AR</td>\n",
       "      <td>AR_047</td>\n",
       "    </tr>\n",
       "    <tr>\n",
       "      <th>6</th>\n",
       "      <td>FscmTopModelAM.PartiesAnalyticsAM.OriginalSyst...</td>\n",
       "      <td>HZ_ORIG_SYS_REFERENCES23</td>\n",
       "      <td>AR</td>\n",
       "      <td>AR_048</td>\n",
       "    </tr>\n",
       "    <tr>\n",
       "      <th>7</th>\n",
       "      <td>FscmTopModelAM.PartiesAnalyticsAM.OriginalSyst...</td>\n",
       "      <td>HZ_ORIG_SYS_REFERENCES23</td>\n",
       "      <td>S2P</td>\n",
       "      <td>S2P_031</td>\n",
       "    </tr>\n",
       "    <tr>\n",
       "      <th>8</th>\n",
       "      <td>FscmTopModelAM.PartiesAnalyticsAM.OriginalSyst...</td>\n",
       "      <td>HZ_ORIG_SYS_REFERENCES23</td>\n",
       "      <td>S2P</td>\n",
       "      <td>S2P_032</td>\n",
       "    </tr>\n",
       "  </tbody>\n",
       "</table>\n",
       "</div>"
      ],
      "text/plain": [
       "                                      DATASTORE_NAME  \\\n",
       "0  FscmTopModelAM.PartiesAnalyticsAM.OriginalSyst...   \n",
       "1  FscmTopModelAM.PartiesAnalyticsAM.OriginalSyst...   \n",
       "2  FscmTopModelAM.PartiesAnalyticsAM.OriginalSyst...   \n",
       "3  FscmTopModelAM.PartiesAnalyticsAM.OriginalSyst...   \n",
       "4  FscmTopModelAM.PartiesAnalyticsAM.OriginalSyst...   \n",
       "5  FscmTopModelAM.PartiesAnalyticsAM.OriginalSyst...   \n",
       "6  FscmTopModelAM.PartiesAnalyticsAM.OriginalSyst...   \n",
       "7  FscmTopModelAM.PartiesAnalyticsAM.OriginalSyst...   \n",
       "8  FscmTopModelAM.PartiesAnalyticsAM.OriginalSyst...   \n",
       "\n",
       "          SOURCE_TABLE_NAME MODULE TABLE_ID  \n",
       "0    HZ_ORIG_SYS_REFERENCES     MS   MS_030  \n",
       "1    HZ_ORIG_SYS_REFERENCES     MS   MS_031  \n",
       "2    HZ_ORIG_SYS_REFERENCES     MS   MS_032  \n",
       "3    HZ_ORIG_SYS_REFERENCES     MS   MS_033  \n",
       "4    HZ_ORIG_SYS_REFERENCES     MS   MS_034  \n",
       "5  HZ_ORIG_SYS_REFERENCES23     AR   AR_047  \n",
       "6  HZ_ORIG_SYS_REFERENCES23     AR   AR_048  \n",
       "7  HZ_ORIG_SYS_REFERENCES23    S2P  S2P_031  \n",
       "8  HZ_ORIG_SYS_REFERENCES23    S2P  S2P_032  "
      ]
     },
     "execution_count": 84,
     "metadata": {},
     "output_type": "execute_result"
    }
   ],
   "source": [
    "base_df"
   ]
  }
 ],
 "metadata": {
  "kernelspec": {
   "display_name": "Python 3 (ipykernel)",
   "language": "python",
   "name": "python3"
  },
  "language_info": {
   "codemirror_mode": {
    "name": "ipython",
    "version": 3
   },
   "file_extension": ".py",
   "mimetype": "text/x-python",
   "name": "python",
   "nbconvert_exporter": "python",
   "pygments_lexer": "ipython3",
   "version": "3.10.4"
  }
 },
 "nbformat": 4,
 "nbformat_minor": 5
}
